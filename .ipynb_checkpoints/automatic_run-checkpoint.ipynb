{
 "cells": [
  {
   "cell_type": "code",
   "execution_count": null,
   "id": "9a313ae9",
   "metadata": {},
   "outputs": [],
   "source": [
    "import numpy as np\n",
    "import matplotlib.pyplot as plt\n",
    "import random\n",
    "import joblib\n",
    "import copy\n",
    "\n",
    "import tensorflow as tf\n",
    "from keras import Sequential\n",
    "from keras.optimizers import SGD, Adam\n",
    "from keras.layers import Dense, Flatten, Conv2D, MaxPooling2D,BatchNormalization,Dropout\n",
    "from keras.preprocessing.image import ImageDataGenerator"
   ]
  },
  {
   "cell_type": "code",
   "execution_count": null,
   "id": "93cbb0b3",
   "metadata": {},
   "outputs": [],
   "source": [
    "model = Sequential()\n",
    "model.add(Conv2D(32, (3, 3), activation='relu', input_shape=(32,32,3)))\n",
    "model.add(BatchNormalization())\n",
    "model.add(MaxPooling2D(pool_size=(2, 2)))\n",
    "model.add(Dropout(0.25))\n",
    "\n",
    "model.add(Conv2D(64, (3, 3), activation='relu'))\n",
    "model.add(BatchNormalization())\n",
    "model.add(MaxPooling2D(pool_size=(2, 2)))\n",
    "model.add(Dropout(0.25))\n",
    "\n",
    "model.add(Conv2D(128, (3, 3), activation='relu'))\n",
    "model.add(BatchNormalization())\n",
    "model.add(MaxPooling2D(pool_size=(2, 2)))\n",
    "model.add(Dropout(0.25))\n",
    "\n",
    "model.add(Flatten())\n",
    "model.add(Dense(512, activation='relu'))\n",
    "model.add(BatchNormalization())\n",
    "model.add(Dropout(0.5))\n",
    "\n",
    "model.add(Dense(1,activation='sigmoid'))\n",
    "\n",
    "optimizer = SGD(learning_rate=0.001, momentum=0.9)\n",
    "# optimizer = Adam(learning_rate=0.001)\n",
    "\n",
    "model.compile(optimizer=optimizer, loss='binary_crossentropy',  metrics=['accuracy'])"
   ]
  },
  {
   "cell_type": "code",
   "execution_count": null,
   "id": "d066269c",
   "metadata": {},
   "outputs": [],
   "source": [
    "train_datagen = ImageDataGenerator(\n",
    "    rescale=1./255,\n",
    "    shear_range=0.2,\n",
    "    zoom_range=0.2,\n",
    "    horizontal_flip=True)\n",
    "\n",
    "train_generator = train_datagen.flow_from_directory(\n",
    "    'data/train',\n",
    "    target_size=(32, 32),\n",
    "    batch_size=20000,\n",
    "    class_mode='binary')\n",
    "\n",
    "\n",
    "test_datagen = ImageDataGenerator(rescale=1./255)\n",
    "test_generator = test_datagen.flow_from_directory(\n",
    "        'data/test',\n",
    "        target_size=(32, 32),\n",
    "        batch_size=2500,\n",
    "        class_mode='binary')\n",
    "\n",
    "(x_train, y_train) = train_generator.next()\n",
    "(x_test, y_test) = test_generator.next()"
   ]
  },
  {
   "cell_type": "code",
   "execution_count": null,
   "id": "2259535e",
   "metadata": {},
   "outputs": [],
   "source": [
    "super_duper_loss = []\n",
    "super_duper_result = []"
   ]
  },
  {
   "cell_type": "code",
   "execution_count": null,
   "id": "cda9f52d",
   "metadata": {},
   "outputs": [],
   "source": []
  },
  {
   "cell_type": "code",
   "execution_count": null,
   "id": "9d93c4dc",
   "metadata": {},
   "outputs": [],
   "source": [
    "for ony in range(11):\n",
    "\n",
    "    x10 = copy.deepcopy(x_train.reshape(10, 2000, 32, 32, 3))\n",
    "    y10 = copy.deepcopy(y_train.reshape(10, 2000))\n",
    "\n",
    "    num_malisious = ony\n",
    "    for i in range(num_malisious):\n",
    "        random.shuffle(y10[i])\n",
    "        \n",
    "    model_2 = copy.deepcopy(model)\n",
    "    weights = model_2.get_weights()\n",
    "    loss=[]\n",
    "    for i in range(10):\n",
    "        model_2.set_weights(weights)\n",
    "        history=model_2.fit(x10[i], y10[i], epochs=50, batch_size=100, verbose=1, validation_split=0.1)\n",
    "        weights = model_2.get_weights()\n",
    "        loss=loss+history.history['loss']\n",
    "        \n",
    "    plt.plot(loss)\n",
    "    plot_name = f\"Malicious_amount {ony} plot.png\"\n",
    "    plt.savefig(plot_name)\n",
    "    super_duper_loss.append(loss)\n",
    "    result = model_2.evaluate(x_test, y_test)\n",
    "    result = result[1]*100\n",
    "    super_duper_result.append(result)"
   ]
  },
  {
   "cell_type": "code",
   "execution_count": null,
   "id": "ddfb5a63",
   "metadata": {},
   "outputs": [],
   "source": [
    "joblib.dump(super_duper_loss, \"super_duper_loss.riya\")\n",
    "joblib.dump(super_duper_result, \"super_duper_result.riya\")"
   ]
  }
 ],
 "metadata": {
  "kernelspec": {
   "display_name": "Python 3 (ipykernel)",
   "language": "python",
   "name": "python3"
  },
  "language_info": {
   "codemirror_mode": {
    "name": "ipython",
    "version": 3
   },
   "file_extension": ".py",
   "mimetype": "text/x-python",
   "name": "python",
   "nbconvert_exporter": "python",
   "pygments_lexer": "ipython3",
   "version": "3.9.13"
  }
 },
 "nbformat": 4,
 "nbformat_minor": 5
}
