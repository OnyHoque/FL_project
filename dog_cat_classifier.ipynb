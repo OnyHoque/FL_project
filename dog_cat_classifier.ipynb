{
 "cells": [
  {
   "cell_type": "code",
   "execution_count": 1,
   "id": "1ec989b4",
   "metadata": {},
   "outputs": [],
   "source": [
    "import time\n",
    "import tensorflow as tf\n",
    "from keras import Sequential\n",
    "import keras.utils.np_utils as kutils\n",
    "from keras.preprocessing.image import ImageDataGenerator\n",
    "from keras.layers import Dense, Flatten, Conv2D, MaxPooling2D"
   ]
  },
  {
   "cell_type": "code",
   "execution_count": null,
   "id": "5e91a18b",
   "metadata": {},
   "outputs": [],
   "source": []
  },
  {
   "cell_type": "code",
   "execution_count": 19,
   "id": "c7f25125",
   "metadata": {},
   "outputs": [
    {
     "name": "stdout",
     "output_type": "stream",
     "text": [
      "Found 20000 images belonging to 2 classes.\n",
      "Found 5000 images belonging to 2 classes.\n",
      "Classes of data:  {'cats': 0, 'dogs': 1}\n"
     ]
    }
   ],
   "source": [
    "train_datagen = ImageDataGenerator(\n",
    "        rescale=1./255,\n",
    "        shear_range=0.2,\n",
    "        zoom_range=0.2,\n",
    "        horizontal_flip=True)\n",
    "\n",
    "train_generator = train_datagen.flow_from_directory(\n",
    "        'data/train',\n",
    "        target_size=(64, 64),\n",
    "        batch_size=20000,\n",
    "        class_mode='binary')\n",
    "\n",
    "\n",
    "test_datagen = ImageDataGenerator(rescale=1./255)\n",
    "test_generator = test_datagen.flow_from_directory(\n",
    "        'data/test',\n",
    "        target_size=(64, 64),\n",
    "        batch_size=2500,\n",
    "        class_mode='binary')\n",
    "\n",
    "print(\"Classes of data: \", train_generator.class_indices)\n",
    "data_train = train_generator.next()\n",
    "data_test = test_generator.next()"
   ]
  },
  {
   "cell_type": "code",
   "execution_count": 21,
   "id": "5acd7724",
   "metadata": {},
   "outputs": [],
   "source": [
    "(x_train, y_train) = data_train\n",
    "(x_test, y_test) = data_test"
   ]
  },
  {
   "cell_type": "code",
   "execution_count": 4,
   "id": "e3b0be8f",
   "metadata": {},
   "outputs": [],
   "source": [
    "# model = Sequential()\n",
    "# layers = tf.keras.applications.ResNet50(include_top = False, weights = 'imagenet', input_shape = (32,32,3), classes = 2)\n",
    "# model.add(layers)\n",
    "# model.add(Flatten())\n",
    "# model.add(Dense(1,activation='sigmoid'))"
   ]
  },
  {
   "cell_type": "code",
   "execution_count": 5,
   "id": "b41c0885",
   "metadata": {},
   "outputs": [],
   "source": [
    "\n",
    "# baseModel= tf.keras.applications.ResNet50(include_top = False, weights = 'imagenet', input_shape = (32,32,3), classes = 2)\n",
    "\n",
    "# out=baseModel.layers[-1].output\n",
    "# out = Flatten()(out)\n",
    "# output = Dense(1, activation='sigmoid')(out)\n",
    "\n",
    "# model = tf.keras.models.Model(inputs=baseModel.input, outputs=output)\n",
    "# model.compile(optimizer='adam', loss='binary_crossentropy',  metrics=['accuracy'])"
   ]
  },
  {
   "cell_type": "code",
   "execution_count": 6,
   "id": "0605eace",
   "metadata": {},
   "outputs": [],
   "source": [
    "# opt = SGD(lr=0.001, momentum=0.9)\n",
    "# model.compile(optimizer=opt, loss='binary_crossentropy', metrics=['accuracy'])"
   ]
  },
  {
   "cell_type": "code",
   "execution_count": 43,
   "id": "cf776035",
   "metadata": {},
   "outputs": [],
   "source": [
    "model = Sequential()\n",
    "model.add(Conv2D(64,3,3,input_shape=(64,64,3),activation='relu'))\n",
    "model.add(MaxPooling2D(pool_size=(2,2)))\n",
    "model.add(Conv2D(32,2,2,activation='relu'))\n",
    "model.add(MaxPooling2D(pool_size=(2,2)))\n",
    "model.add(Flatten())\n",
    "model.add(Dense(64,activation='relu'))\n",
    "model.add(Dense(1,activation='sigmoid'))\n",
    "model.compile(optimizer='adam', loss='binary_crossentropy',  metrics=['accuracy'])"
   ]
  },
  {
   "cell_type": "code",
   "execution_count": 44,
   "id": "1988749a",
   "metadata": {},
   "outputs": [
    {
     "name": "stdout",
     "output_type": "stream",
     "text": [
      "Model: \"sequential_11\"\n",
      "_________________________________________________________________\n",
      " Layer (type)                Output Shape              Param #   \n",
      "=================================================================\n",
      " conv2d_17 (Conv2D)          (None, 21, 21, 64)        1792      \n",
      "                                                                 \n",
      " max_pooling2d_17 (MaxPoolin  (None, 10, 10, 64)       0         \n",
      " g2D)                                                            \n",
      "                                                                 \n",
      " conv2d_18 (Conv2D)          (None, 5, 5, 32)          8224      \n",
      "                                                                 \n",
      " max_pooling2d_18 (MaxPoolin  (None, 2, 2, 32)         0         \n",
      " g2D)                                                            \n",
      "                                                                 \n",
      " flatten_11 (Flatten)        (None, 128)               0         \n",
      "                                                                 \n",
      " dense_20 (Dense)            (None, 64)                8256      \n",
      "                                                                 \n",
      " dense_21 (Dense)            (None, 1)                 65        \n",
      "                                                                 \n",
      "=================================================================\n",
      "Total params: 18,337\n",
      "Trainable params: 18,337\n",
      "Non-trainable params: 0\n",
      "_________________________________________________________________\n"
     ]
    }
   ],
   "source": [
    "model.summary()"
   ]
  },
  {
   "cell_type": "code",
   "execution_count": 45,
   "id": "753d39e7",
   "metadata": {},
   "outputs": [
    {
     "name": "stdout",
     "output_type": "stream",
     "text": [
      "Epoch 1/100\n",
      "180/180 [==============================] - 2s 11ms/step - loss: 0.6828 - accuracy: 0.5539 - val_loss: 0.6661 - val_accuracy: 0.5795\n",
      "Epoch 2/100\n",
      "180/180 [==============================] - 2s 11ms/step - loss: 0.6498 - accuracy: 0.6224 - val_loss: 0.6356 - val_accuracy: 0.6285\n",
      "Epoch 3/100\n",
      "180/180 [==============================] - 2s 11ms/step - loss: 0.6255 - accuracy: 0.6525 - val_loss: 0.6130 - val_accuracy: 0.6665\n",
      "Epoch 4/100\n",
      "180/180 [==============================] - 2s 11ms/step - loss: 0.6053 - accuracy: 0.6731 - val_loss: 0.5926 - val_accuracy: 0.6920\n",
      "Epoch 5/100\n",
      "180/180 [==============================] - 2s 11ms/step - loss: 0.5930 - accuracy: 0.6835 - val_loss: 0.5899 - val_accuracy: 0.6900\n",
      "Epoch 6/100\n",
      "180/180 [==============================] - 2s 11ms/step - loss: 0.5812 - accuracy: 0.6949 - val_loss: 0.5744 - val_accuracy: 0.7035\n",
      "Epoch 7/100\n",
      "180/180 [==============================] - 2s 11ms/step - loss: 0.5650 - accuracy: 0.7078 - val_loss: 0.5999 - val_accuracy: 0.6740\n",
      "Epoch 8/100\n",
      "180/180 [==============================] - 2s 12ms/step - loss: 0.5462 - accuracy: 0.7247 - val_loss: 0.5636 - val_accuracy: 0.7070\n",
      "Epoch 9/100\n",
      "180/180 [==============================] - 2s 11ms/step - loss: 0.5321 - accuracy: 0.7326 - val_loss: 0.5536 - val_accuracy: 0.7185\n",
      "Epoch 10/100\n",
      "180/180 [==============================] - 2s 11ms/step - loss: 0.5229 - accuracy: 0.7382 - val_loss: 0.5839 - val_accuracy: 0.6980\n",
      "Epoch 11/100\n",
      "180/180 [==============================] - 2s 11ms/step - loss: 0.5071 - accuracy: 0.7532 - val_loss: 0.5450 - val_accuracy: 0.7180\n",
      "Epoch 12/100\n",
      "180/180 [==============================] - 2s 12ms/step - loss: 0.4987 - accuracy: 0.7524 - val_loss: 0.5486 - val_accuracy: 0.7125\n",
      "Epoch 13/100\n",
      "180/180 [==============================] - 2s 12ms/step - loss: 0.4833 - accuracy: 0.7684 - val_loss: 0.5442 - val_accuracy: 0.7245\n",
      "Epoch 14/100\n",
      "180/180 [==============================] - 2s 11ms/step - loss: 0.4841 - accuracy: 0.7673 - val_loss: 0.5357 - val_accuracy: 0.7215\n",
      "Epoch 15/100\n",
      "180/180 [==============================] - 2s 12ms/step - loss: 0.4711 - accuracy: 0.7776 - val_loss: 0.5601 - val_accuracy: 0.7115\n",
      "Epoch 16/100\n",
      "180/180 [==============================] - 2s 12ms/step - loss: 0.4636 - accuracy: 0.7790 - val_loss: 0.5399 - val_accuracy: 0.7220\n",
      "Epoch 17/100\n",
      "180/180 [==============================] - 2s 11ms/step - loss: 0.4517 - accuracy: 0.7853 - val_loss: 0.5423 - val_accuracy: 0.7300\n",
      "Epoch 18/100\n",
      "180/180 [==============================] - 2s 11ms/step - loss: 0.4434 - accuracy: 0.7913 - val_loss: 0.5468 - val_accuracy: 0.7175\n",
      "Epoch 19/100\n",
      "180/180 [==============================] - 2s 12ms/step - loss: 0.4426 - accuracy: 0.7923 - val_loss: 0.5347 - val_accuracy: 0.7345\n",
      "Epoch 20/100\n",
      "180/180 [==============================] - 2s 12ms/step - loss: 0.4329 - accuracy: 0.7999 - val_loss: 0.5348 - val_accuracy: 0.7305\n",
      "Epoch 21/100\n",
      "180/180 [==============================] - 2s 12ms/step - loss: 0.4286 - accuracy: 0.8010 - val_loss: 0.5355 - val_accuracy: 0.7265\n",
      "Epoch 22/100\n",
      "180/180 [==============================] - 2s 12ms/step - loss: 0.4235 - accuracy: 0.8012 - val_loss: 0.5450 - val_accuracy: 0.7250\n",
      "Epoch 23/100\n",
      "180/180 [==============================] - 2s 12ms/step - loss: 0.4179 - accuracy: 0.8059 - val_loss: 0.5452 - val_accuracy: 0.7240\n",
      "Epoch 24/100\n",
      "180/180 [==============================] - 2s 12ms/step - loss: 0.4114 - accuracy: 0.8067 - val_loss: 0.5429 - val_accuracy: 0.7340\n",
      "Epoch 25/100\n",
      "180/180 [==============================] - 2s 11ms/step - loss: 0.4032 - accuracy: 0.8146 - val_loss: 0.5442 - val_accuracy: 0.7315\n",
      "Epoch 26/100\n",
      "180/180 [==============================] - 2s 11ms/step - loss: 0.3945 - accuracy: 0.8212 - val_loss: 0.5525 - val_accuracy: 0.7325\n",
      "Epoch 27/100\n",
      "180/180 [==============================] - 2s 12ms/step - loss: 0.3858 - accuracy: 0.8266 - val_loss: 0.5758 - val_accuracy: 0.7300\n",
      "Epoch 28/100\n",
      "180/180 [==============================] - 2s 12ms/step - loss: 0.3824 - accuracy: 0.8272 - val_loss: 0.5934 - val_accuracy: 0.7085\n",
      "Epoch 29/100\n",
      "180/180 [==============================] - 2s 11ms/step - loss: 0.3804 - accuracy: 0.8275 - val_loss: 0.5612 - val_accuracy: 0.7320\n",
      "Epoch 30/100\n",
      "180/180 [==============================] - 2s 12ms/step - loss: 0.3833 - accuracy: 0.8244 - val_loss: 0.5650 - val_accuracy: 0.7205\n",
      "Epoch 31/100\n",
      "180/180 [==============================] - 2s 12ms/step - loss: 0.3720 - accuracy: 0.8307 - val_loss: 0.5521 - val_accuracy: 0.7370\n",
      "Epoch 32/100\n",
      "180/180 [==============================] - 2s 12ms/step - loss: 0.3708 - accuracy: 0.8346 - val_loss: 0.5804 - val_accuracy: 0.7185\n",
      "Epoch 33/100\n",
      "180/180 [==============================] - 2s 12ms/step - loss: 0.3629 - accuracy: 0.8374 - val_loss: 0.5705 - val_accuracy: 0.7355\n",
      "Epoch 34/100\n",
      "180/180 [==============================] - 2s 12ms/step - loss: 0.3513 - accuracy: 0.8428 - val_loss: 0.6197 - val_accuracy: 0.7125\n",
      "Epoch 35/100\n",
      "180/180 [==============================] - 2s 12ms/step - loss: 0.3526 - accuracy: 0.8436 - val_loss: 0.6107 - val_accuracy: 0.7215\n",
      "Epoch 36/100\n",
      "180/180 [==============================] - 2s 12ms/step - loss: 0.3510 - accuracy: 0.8456 - val_loss: 0.5838 - val_accuracy: 0.7255\n",
      "Epoch 37/100\n",
      "180/180 [==============================] - 2s 12ms/step - loss: 0.3409 - accuracy: 0.8477 - val_loss: 0.5795 - val_accuracy: 0.7390\n",
      "Epoch 38/100\n",
      "180/180 [==============================] - 2s 11ms/step - loss: 0.3348 - accuracy: 0.8532 - val_loss: 0.6039 - val_accuracy: 0.7325\n",
      "Epoch 39/100\n",
      "180/180 [==============================] - 2s 12ms/step - loss: 0.3320 - accuracy: 0.8557 - val_loss: 0.6107 - val_accuracy: 0.7220\n",
      "Epoch 40/100\n",
      "180/180 [==============================] - 2s 12ms/step - loss: 0.3369 - accuracy: 0.8500 - val_loss: 0.6130 - val_accuracy: 0.7240\n",
      "Epoch 41/100\n",
      "180/180 [==============================] - 2s 12ms/step - loss: 0.3239 - accuracy: 0.8577 - val_loss: 0.6210 - val_accuracy: 0.7255\n",
      "Epoch 42/100\n",
      "180/180 [==============================] - 2s 11ms/step - loss: 0.3166 - accuracy: 0.8621 - val_loss: 0.6287 - val_accuracy: 0.7310\n",
      "Epoch 43/100\n",
      "180/180 [==============================] - 2s 12ms/step - loss: 0.3143 - accuracy: 0.8620 - val_loss: 0.6316 - val_accuracy: 0.7335\n",
      "Epoch 44/100\n",
      "180/180 [==============================] - 2s 12ms/step - loss: 0.3189 - accuracy: 0.8604 - val_loss: 0.6389 - val_accuracy: 0.7365\n",
      "Epoch 45/100\n",
      "180/180 [==============================] - 2s 11ms/step - loss: 0.3119 - accuracy: 0.8632 - val_loss: 0.6239 - val_accuracy: 0.7200\n",
      "Epoch 46/100\n",
      "180/180 [==============================] - 2s 12ms/step - loss: 0.3023 - accuracy: 0.8682 - val_loss: 0.6350 - val_accuracy: 0.7305\n",
      "Epoch 47/100\n",
      "180/180 [==============================] - 2s 12ms/step - loss: 0.2948 - accuracy: 0.8747 - val_loss: 0.6620 - val_accuracy: 0.7295\n",
      "Epoch 48/100\n",
      "180/180 [==============================] - 2s 12ms/step - loss: 0.3038 - accuracy: 0.8680 - val_loss: 0.6589 - val_accuracy: 0.7265\n",
      "Epoch 49/100\n",
      "180/180 [==============================] - 2s 12ms/step - loss: 0.2922 - accuracy: 0.8743 - val_loss: 0.6842 - val_accuracy: 0.7155\n",
      "Epoch 50/100\n",
      "180/180 [==============================] - 2s 12ms/step - loss: 0.2869 - accuracy: 0.8779 - val_loss: 0.6714 - val_accuracy: 0.7185\n",
      "Epoch 51/100\n",
      "180/180 [==============================] - 2s 12ms/step - loss: 0.2858 - accuracy: 0.8779 - val_loss: 0.6739 - val_accuracy: 0.7230\n",
      "Epoch 52/100\n",
      "180/180 [==============================] - 2s 12ms/step - loss: 0.2814 - accuracy: 0.8805 - val_loss: 0.6841 - val_accuracy: 0.7190\n",
      "Epoch 53/100\n",
      "180/180 [==============================] - 2s 12ms/step - loss: 0.2745 - accuracy: 0.8836 - val_loss: 0.7259 - val_accuracy: 0.7240\n",
      "Epoch 54/100\n",
      "180/180 [==============================] - 2s 12ms/step - loss: 0.2680 - accuracy: 0.8851 - val_loss: 0.7317 - val_accuracy: 0.7205\n",
      "Epoch 55/100\n",
      "180/180 [==============================] - 2s 12ms/step - loss: 0.2633 - accuracy: 0.8890 - val_loss: 0.7379 - val_accuracy: 0.7140\n",
      "Epoch 56/100\n",
      "180/180 [==============================] - 2s 11ms/step - loss: 0.2629 - accuracy: 0.8881 - val_loss: 0.7194 - val_accuracy: 0.7205\n",
      "Epoch 57/100\n"
     ]
    },
    {
     "name": "stdout",
     "output_type": "stream",
     "text": [
      "180/180 [==============================] - 2s 11ms/step - loss: 0.2666 - accuracy: 0.8868 - val_loss: 0.7240 - val_accuracy: 0.7235\n",
      "Epoch 58/100\n",
      "180/180 [==============================] - 2s 11ms/step - loss: 0.2558 - accuracy: 0.8943 - val_loss: 0.7729 - val_accuracy: 0.7090\n",
      "Epoch 59/100\n",
      "180/180 [==============================] - 2s 11ms/step - loss: 0.2518 - accuracy: 0.8941 - val_loss: 0.7575 - val_accuracy: 0.7175\n",
      "Epoch 60/100\n",
      "180/180 [==============================] - 2s 12ms/step - loss: 0.2525 - accuracy: 0.8932 - val_loss: 0.7356 - val_accuracy: 0.7250\n",
      "Epoch 61/100\n",
      "180/180 [==============================] - 2s 12ms/step - loss: 0.2460 - accuracy: 0.8977 - val_loss: 0.7635 - val_accuracy: 0.7175\n",
      "Epoch 62/100\n",
      "180/180 [==============================] - 2s 12ms/step - loss: 0.2440 - accuracy: 0.8994 - val_loss: 0.7498 - val_accuracy: 0.7175\n",
      "Epoch 63/100\n",
      "180/180 [==============================] - 2s 12ms/step - loss: 0.2381 - accuracy: 0.9015 - val_loss: 0.7982 - val_accuracy: 0.7245\n",
      "Epoch 64/100\n",
      "180/180 [==============================] - 2s 11ms/step - loss: 0.2384 - accuracy: 0.9016 - val_loss: 0.7729 - val_accuracy: 0.7115\n",
      "Epoch 65/100\n",
      "180/180 [==============================] - 2s 12ms/step - loss: 0.2287 - accuracy: 0.9056 - val_loss: 0.8018 - val_accuracy: 0.7175\n",
      "Epoch 66/100\n",
      "180/180 [==============================] - 2s 12ms/step - loss: 0.2288 - accuracy: 0.9057 - val_loss: 0.8160 - val_accuracy: 0.7145\n",
      "Epoch 67/100\n",
      "180/180 [==============================] - 2s 12ms/step - loss: 0.2238 - accuracy: 0.9071 - val_loss: 0.8086 - val_accuracy: 0.7270\n",
      "Epoch 68/100\n",
      "180/180 [==============================] - 2s 12ms/step - loss: 0.2269 - accuracy: 0.9059 - val_loss: 0.8111 - val_accuracy: 0.7170\n",
      "Epoch 69/100\n",
      "180/180 [==============================] - 2s 12ms/step - loss: 0.2211 - accuracy: 0.9100 - val_loss: 0.8291 - val_accuracy: 0.7095\n",
      "Epoch 70/100\n",
      "180/180 [==============================] - 2s 12ms/step - loss: 0.2136 - accuracy: 0.9100 - val_loss: 0.8517 - val_accuracy: 0.7135\n",
      "Epoch 71/100\n",
      "180/180 [==============================] - 2s 12ms/step - loss: 0.2088 - accuracy: 0.9133 - val_loss: 0.8536 - val_accuracy: 0.7145\n",
      "Epoch 72/100\n",
      "180/180 [==============================] - 2s 12ms/step - loss: 0.2132 - accuracy: 0.9114 - val_loss: 0.8553 - val_accuracy: 0.7105\n",
      "Epoch 73/100\n",
      "180/180 [==============================] - 2s 12ms/step - loss: 0.2054 - accuracy: 0.9157 - val_loss: 0.8667 - val_accuracy: 0.7130\n",
      "Epoch 74/100\n",
      "180/180 [==============================] - 2s 11ms/step - loss: 0.1989 - accuracy: 0.9180 - val_loss: 0.8928 - val_accuracy: 0.7090\n",
      "Epoch 75/100\n",
      "180/180 [==============================] - 2s 11ms/step - loss: 0.2051 - accuracy: 0.9143 - val_loss: 0.8651 - val_accuracy: 0.7155\n",
      "Epoch 76/100\n",
      "180/180 [==============================] - 2s 11ms/step - loss: 0.2069 - accuracy: 0.9135 - val_loss: 0.8987 - val_accuracy: 0.7185\n",
      "Epoch 77/100\n",
      "180/180 [==============================] - 2s 12ms/step - loss: 0.1988 - accuracy: 0.9187 - val_loss: 0.9319 - val_accuracy: 0.7060\n",
      "Epoch 78/100\n",
      "180/180 [==============================] - 2s 11ms/step - loss: 0.1955 - accuracy: 0.9190 - val_loss: 0.9406 - val_accuracy: 0.7170\n",
      "Epoch 79/100\n",
      "180/180 [==============================] - 2s 11ms/step - loss: 0.1897 - accuracy: 0.9242 - val_loss: 0.8956 - val_accuracy: 0.7165\n",
      "Epoch 80/100\n",
      "180/180 [==============================] - 2s 12ms/step - loss: 0.1807 - accuracy: 0.9283 - val_loss: 0.9433 - val_accuracy: 0.7135\n",
      "Epoch 81/100\n",
      "180/180 [==============================] - 2s 12ms/step - loss: 0.1774 - accuracy: 0.9286 - val_loss: 0.9740 - val_accuracy: 0.7100\n",
      "Epoch 82/100\n",
      "180/180 [==============================] - 2s 12ms/step - loss: 0.1807 - accuracy: 0.9265 - val_loss: 0.9817 - val_accuracy: 0.7165\n",
      "Epoch 83/100\n",
      "180/180 [==============================] - 2s 12ms/step - loss: 0.1791 - accuracy: 0.9290 - val_loss: 0.9578 - val_accuracy: 0.7060\n",
      "Epoch 84/100\n",
      "180/180 [==============================] - 2s 12ms/step - loss: 0.1754 - accuracy: 0.9301 - val_loss: 0.9885 - val_accuracy: 0.7095\n",
      "Epoch 85/100\n",
      "180/180 [==============================] - 2s 12ms/step - loss: 0.1749 - accuracy: 0.9284 - val_loss: 1.0025 - val_accuracy: 0.7010\n",
      "Epoch 86/100\n",
      "180/180 [==============================] - 2s 12ms/step - loss: 0.1675 - accuracy: 0.9340 - val_loss: 0.9975 - val_accuracy: 0.7185\n",
      "Epoch 87/100\n",
      "180/180 [==============================] - 2s 12ms/step - loss: 0.1639 - accuracy: 0.9351 - val_loss: 1.0173 - val_accuracy: 0.7075\n",
      "Epoch 88/100\n",
      "180/180 [==============================] - 2s 12ms/step - loss: 0.1673 - accuracy: 0.9331 - val_loss: 1.0034 - val_accuracy: 0.7045\n",
      "Epoch 89/100\n",
      "180/180 [==============================] - 2s 12ms/step - loss: 0.1596 - accuracy: 0.9371 - val_loss: 1.0754 - val_accuracy: 0.7150\n",
      "Epoch 90/100\n",
      "180/180 [==============================] - 2s 12ms/step - loss: 0.1603 - accuracy: 0.9375 - val_loss: 1.0442 - val_accuracy: 0.7065\n",
      "Epoch 91/100\n",
      "180/180 [==============================] - 2s 11ms/step - loss: 0.1623 - accuracy: 0.9358 - val_loss: 1.0392 - val_accuracy: 0.7130\n",
      "Epoch 92/100\n",
      "180/180 [==============================] - 2s 12ms/step - loss: 0.1603 - accuracy: 0.9345 - val_loss: 1.0584 - val_accuracy: 0.7110\n",
      "Epoch 93/100\n",
      "180/180 [==============================] - 2s 12ms/step - loss: 0.1550 - accuracy: 0.9373 - val_loss: 1.1155 - val_accuracy: 0.7045\n",
      "Epoch 94/100\n",
      "180/180 [==============================] - 2s 12ms/step - loss: 0.1488 - accuracy: 0.9407 - val_loss: 1.1076 - val_accuracy: 0.7070\n",
      "Epoch 95/100\n",
      "180/180 [==============================] - 2s 12ms/step - loss: 0.1458 - accuracy: 0.9425 - val_loss: 1.1151 - val_accuracy: 0.6985\n",
      "Epoch 96/100\n",
      "180/180 [==============================] - 2s 12ms/step - loss: 0.1404 - accuracy: 0.9449 - val_loss: 1.1292 - val_accuracy: 0.7080\n",
      "Epoch 97/100\n",
      "180/180 [==============================] - 2s 12ms/step - loss: 0.1421 - accuracy: 0.9451 - val_loss: 1.1647 - val_accuracy: 0.7035\n",
      "Epoch 98/100\n",
      "180/180 [==============================] - 2s 11ms/step - loss: 0.1384 - accuracy: 0.9461 - val_loss: 1.1607 - val_accuracy: 0.7075\n",
      "Epoch 99/100\n",
      "180/180 [==============================] - 2s 11ms/step - loss: 0.1387 - accuracy: 0.9460 - val_loss: 1.1956 - val_accuracy: 0.7105\n",
      "Epoch 100/100\n",
      "180/180 [==============================] - 2s 12ms/step - loss: 0.1344 - accuracy: 0.9474 - val_loss: 1.1620 - val_accuracy: 0.7020\n",
      "--- 208.15021896362305 seconds ---\n"
     ]
    }
   ],
   "source": [
    "start_time = time.time()\n",
    "\n",
    "history = model.fit(x_train, y_train, epochs=100, batch_size=100, verbose=1, validation_split=0.1)\n",
    "\n",
    "print(\"--- %s seconds ---\" % (time.time() - start_time))\n",
    "\n",
    "loss = history.history['loss']"
   ]
  },
  {
   "cell_type": "code",
   "execution_count": 48,
   "id": "5ab501cd",
   "metadata": {},
   "outputs": [
    {
     "data": {
      "text/plain": [
       "[<matplotlib.lines.Line2D at 0x163c4b4c0>]"
      ]
     },
     "execution_count": 48,
     "metadata": {},
     "output_type": "execute_result"
    },
    {
     "data": {
      "image/png": "[encoded data removed]",
      "text/plain": [
       "<Figure size 640x480 with 1 Axes>"
      ]
     },
     "metadata": {},
     "output_type": "display_data"
    }
   ],
   "source": [
    "import matplotlib.pyplot as plt\n",
    "plt.plot(loss)"
   ]
  },
  {
   "cell_type": "code",
   "execution_count": 47,
   "id": "a039add9",
   "metadata": {},
   "outputs": [
    {
     "name": "stdout",
     "output_type": "stream",
     "text": [
      "79/79 [==============================] - 0s 3ms/step - loss: 1.5326 - accuracy: 0.6932\n"
     ]
    },
    {
     "data": {
      "text/plain": [
       "[1.532578468322754, 0.6931999921798706]"
      ]
     },
     "execution_count": 47,
     "metadata": {},
     "output_type": "execute_result"
    }
   ],
   "source": [
    "model.evaluate(x_test, y_test)"
   ]
  },
  {
   "cell_type": "code",
   "execution_count": null,
   "id": "79bd1a1e",
   "metadata": {},
   "outputs": [],
   "source": []
  }
 ],
 "metadata": {
  "kernelspec": {
   "display_name": "Python 3 (ipykernel)",
   "language": "python",
   "name": "python3"
  },
  "language_info": {
   "codemirror_mode": {
    "name": "ipython",
    "version": 3
   },
   "file_extension": ".py",
   "mimetype": "text/x-python",
   "name": "python",
   "nbconvert_exporter": "python",
   "pygments_lexer": "ipython3",
   "version": "3.9.13"
  }
 },
 "nbformat": 4,
 "nbformat_minor": 5
}
